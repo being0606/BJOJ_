{
 "cells": [
  {
   "cell_type": "code",
   "execution_count": 35,
   "metadata": {},
   "outputs": [
    {
     "name": "stdout",
     "output_type": "stream",
     "text": [
      "2360\n",
      "3776\n",
      "1416\n",
      "181720\n"
     ]
    }
   ],
   "source": [
    "n1 = input()\n",
    "n2 = input()\n",
    "\n",
    "# n1 = '472'\n",
    "# n2 = '385'\n",
    "\n",
    "temp=0\n",
    "temp2=0\n",
    "cnt=0\n",
    "cnt2=0\n",
    "for i in range(1,len(n1)+1):\n",
    "    for j in range(1,len(n1)+1):\n",
    "        temp += (int(n2[-i]) * int(n1[-j])) * (10**cnt)\n",
    "        cnt+=1\n",
    "        if cnt==3:\n",
    "            print(temp)\n",
    "            temp2 += temp * (10**cnt2)\n",
    "            cnt2+=1\n",
    "            temp=0\n",
    "            cnt=0\n",
    "            if cnt2==3:\n",
    "                print(temp2)\n",
    "                break"
   ]
  },
  {
   "cell_type": "code",
   "execution_count": 27,
   "metadata": {},
   "outputs": [
    {
     "data": {
      "text/plain": [
       "100"
      ]
     },
     "execution_count": 27,
     "metadata": {},
     "output_type": "execute_result"
    }
   ],
   "source": [
    "10**2"
   ]
  },
  {
   "cell_type": "code",
   "execution_count": null,
   "metadata": {},
   "outputs": [],
   "source": []
  }
 ],
 "metadata": {
  "kernelspec": {
   "display_name": "Python 3",
   "language": "python",
   "name": "python3"
  },
  "language_info": {
   "codemirror_mode": {
    "name": "ipython",
    "version": 3
   },
   "file_extension": ".py",
   "mimetype": "text/x-python",
   "name": "python",
   "nbconvert_exporter": "python",
   "pygments_lexer": "ipython3",
   "version": "3.10.13"
  },
  "orig_nbformat": 4
 },
 "nbformat": 4,
 "nbformat_minor": 2
}
