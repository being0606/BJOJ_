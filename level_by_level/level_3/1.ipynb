{
 "cells": [
  {
   "cell_type": "code",
   "execution_count": 11,
   "metadata": {},
   "outputs": [],
   "source": [
    "# n = int(input())\n",
    "# print(\n",
    "#     \"%d * 1 = \"+ str(n*1) + \"\\n\" +\n",
    "#     \"%d * 2 = \"+ str(n*2) + \"\\n\" +\n",
    "#     \"%d * 3 = \"+ str(n*3) + \"\\n\" +\n",
    "#     \"%d * 4 = \"+ str(n*4) + \"\\n\" +\n",
    "#     \"%d * 5 = \"+ str(n*5) + \"\\n\" +\n",
    "#     \"%d * 6 = \"+ str(n*6) + \"\\n\" +\n",
    "#     \"%d * 7 = \"+ str(n*7) + \"\\n\" +\n",
    "#     \"%d * 8 = \"+ str(n*8) + \"\\n\" +\n",
    "#     \"%d * 9 = \"+ str(n*9) + \"\\n\"\n",
    "#     %n,%n,%n,%n,%n,%n,%n,%n,%n\n",
    "# )\n"
   ]
  },
  {
   "cell_type": "code",
   "execution_count": 10,
   "metadata": {},
   "outputs": [
    {
     "name": "stdout",
     "output_type": "stream",
     "text": [
      "2 * 1 = 2\n",
      "2 * 2 = 4\n",
      "2 * 3 = 6\n",
      "2 * 4 = 8\n",
      "2 * 5 = 10\n",
      "2 * 6 = 12\n",
      "2 * 7 = 14\n",
      "2 * 8 = 16\n",
      "2 * 9 = 18\n"
     ]
    }
   ],
   "source": [
    "n = int(input())\n",
    "\n",
    "for i in range(1, 10):\n",
    "    print(\"{} * {} = {}\".format(n, i, n*i))\n"
   ]
  },
  {
   "cell_type": "code",
   "execution_count": null,
   "metadata": {},
   "outputs": [],
   "source": []
  }
 ],
 "metadata": {
  "kernelspec": {
   "display_name": "Python 3",
   "language": "python",
   "name": "python3"
  },
  "language_info": {
   "codemirror_mode": {
    "name": "ipython",
    "version": 3
   },
   "file_extension": ".py",
   "mimetype": "text/x-python",
   "name": "python",
   "nbconvert_exporter": "python",
   "pygments_lexer": "ipython3",
   "version": "3.10.13"
  },
  "orig_nbformat": 4
 },
 "nbformat": 4,
 "nbformat_minor": 2
}
