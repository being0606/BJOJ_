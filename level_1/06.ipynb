{
 "cells": [
  {
   "cell_type": "code",
   "execution_count": 2,
   "metadata": {},
   "outputs": [
    {
     "name": "stdout",
     "output_type": "stream",
     "text": [
      "10\n",
      "4\n",
      "21\n",
      "2\n",
      "1\n"
     ]
    }
   ],
   "source": [
    "list = input().split(' ')\n",
    "sum = int(list[0]) + int(list[1])\n",
    "sub = int(list[0]) - int(list[1])\n",
    "muti = int(list[0]) * int(list[1])\n",
    "div = int(list[0]) // int(list[1])\n",
    "remi = int(list[0]) % int(list[1])\n",
    "if int(list[1]) == 0 :\n",
    "    pass\n",
    "print(sum)\n",
    "print(sub)\n",
    "print(muti)\n",
    "print(div)\n",
    "print(remi)"
   ]
  },
  {
   "cell_type": "code",
   "execution_count": null,
   "metadata": {},
   "outputs": [],
   "source": []
  }
 ],
 "metadata": {
  "kernelspec": {
   "display_name": "Python 3",
   "language": "python",
   "name": "python3"
  },
  "language_info": {
   "codemirror_mode": {
    "name": "ipython",
    "version": 3
   },
   "file_extension": ".py",
   "mimetype": "text/x-python",
   "name": "python",
   "nbconvert_exporter": "python",
   "pygments_lexer": "ipython3",
   "version": "3.9.6"
  },
  "orig_nbformat": 4
 },
 "nbformat": 4,
 "nbformat_minor": 2
}
